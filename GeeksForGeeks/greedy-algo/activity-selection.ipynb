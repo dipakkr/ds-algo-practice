{
 "cells": [
  {
   "cell_type": "markdown",
   "metadata": {
    "collapsed": true
   },
   "source": [
    "## Activity Selection"
   ]
  },
  {
   "cell_type": "code",
   "execution_count": 5,
   "metadata": {
    "collapsed": true
   },
   "outputs": [
    {
     "name": "stdout",
     "output_type": "stream",
     "text": [
      "0 1 3 4 "
     ]
    }
   ],
   "source": [
    "\n",
    "def selectactivity(s, f):\n",
    "    \n",
    "    x = len(f)\n",
    "    \n",
    "    i = 0\n",
    "    print(i, end=' ')\n",
    "\n",
    "    for j in range(x):\n",
    "        \n",
    "        if s[j] >= f[i]:\n",
    "            print(j, end=' ')\n",
    "            i = j\n",
    "\n",
    "\n",
    "s = [1, 3, 0, 5, 8, 5]\n",
    "f = [2, 4, 6, 7, 9, 9]\n",
    "\n",
    "selectactivity(s, f)\n"
   ]
  },
  {
   "cell_type": "code",
   "execution_count": null,
   "metadata": {},
   "outputs": [],
   "source": []
  },
  {
   "cell_type": "code",
   "execution_count": null,
   "metadata": {},
   "outputs": [],
   "source": []
  }
 ],
 "metadata": {
  "kernelspec": {
   "display_name": "Python 2",
   "language": "python",
   "name": "python2"
  },
  "language_info": {
   "codemirror_mode": {
    "name": "ipython",
    "version": 2
   },
   "file_extension": ".py",
   "mimetype": "text/x-python",
   "name": "python",
   "nbconvert_exporter": "python",
   "pygments_lexer": "ipython2",
   "version": "2.7.6"
  }
 },
 "nbformat": 4,
 "nbformat_minor": 0
}
