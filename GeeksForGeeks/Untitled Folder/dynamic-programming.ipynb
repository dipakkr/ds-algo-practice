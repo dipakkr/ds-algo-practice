{
 "cells": [
  {
   "cell_type": "markdown",
   "metadata": {},
   "source": [
    "# Fibbonacci Number"
   ]
  },
  {
   "cell_type": "code",
   "execution_count": 7,
   "metadata": {},
   "outputs": [],
   "source": [
    "# Older Recursion method - Complexity - 0(2^n)\n",
    "\n",
    "def fib(n):\n",
    "    \n",
    "    if n == 1 or n==2: return 1;\n",
    "    \n",
    "    return fib(n-2) + fib(n-1)"
   ]
  },
  {
   "cell_type": "markdown",
   "metadata": {},
   "source": [
    "# Longest Increasing Subseque"
   ]
  },
  {
   "cell_type": "markdown",
   "metadata": {},
   "source": [
    "Input  : arr[] = {3, 10, 2, 1, 20}\n",
    "Output : Length of LIS = 3\n",
    "The longest increasing subsequence is 3, 10, 20\n",
    "\n",
    "Input  : arr[] = {3, 2}\n",
    "Output : Length of LIS = 1\n",
    "The longest increasing subsequences are {3} and {2}\n",
    "\n",
    "Input : arr[] = {50, 3, 10, 7, 40, 80}\n",
    "Output : Length of LIS = 4\n",
    "The longest increasing subsequence is {3, 7, 40, 80}"
   ]
  },
  {
   "cell_type": "code",
   "execution_count": 17,
   "metadata": {},
   "outputs": [
    {
     "ename": "SyntaxError",
     "evalue": "unexpected EOF while parsing (<ipython-input-17-f1e2640ffeb7>, line 9)",
     "output_type": "error",
     "traceback": [
      "\u001b[0;36m  File \u001b[0;32m\"<ipython-input-17-f1e2640ffeb7>\"\u001b[0;36m, line \u001b[0;32m9\u001b[0m\n\u001b[0;31m    \u001b[0m\n\u001b[0m    ^\u001b[0m\n\u001b[0;31mSyntaxError\u001b[0m\u001b[0;31m:\u001b[0m unexpected EOF while parsing\n"
     ]
    }
   ],
   "source": [
    "def longestIncreasingSubsequence(a):\n",
    "    \n",
    "    x = len(a)\n",
    "    \n",
    "    for i in range(x):\n",
    "        \n",
    "        for i in range(0, i):\n",
    "            \n",
    "            "
   ]
  },
  {
   "cell_type": "code",
   "execution_count": 23,
   "metadata": {},
   "outputs": [
    {
     "data": {
      "image/png": "[encoded data removed]",
      "text/plain": [
       "<Figure size 432x288 with 1 Axes>"
      ]
     },
     "metadata": {},
     "output_type": "display_data"
    }
   ],
   "source": [
    "import matplotlib.pyplot as plt\n",
    "x=[[1,2,3,4],[1,2,3,4],[1,2,3,4],[1,2,3,4]]\n",
    "y=[[1,2,3,4],[2,3,4,5],[3,4,5,6],[7,8,9,10]]\n",
    "colours=['r','g','b','k']\n",
    "for i in range(len(x)):\n",
    "    plt.plot(x[i],y[i],colours[i]) \n"
   ]
  },
  {
   "cell_type": "code",
   "execution_count": null,
   "metadata": {},
   "outputs": [],
   "source": []
  }
 ],
 "metadata": {
  "kernelspec": {
   "display_name": "Python 3",
   "language": "python",
   "name": "python3"
  },
  "language_info": {
   "codemirror_mode": {
    "name": "ipython",
    "version": 3
   },
   "file_extension": ".py",
   "mimetype": "text/x-python",
   "name": "python",
   "nbconvert_exporter": "python",
   "pygments_lexer": "ipython3",
   "version": "3.6.5"
  }
 },
 "nbformat": 4,
 "nbformat_minor": 2
}
