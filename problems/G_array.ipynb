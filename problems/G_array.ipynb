{
 "cells": [
  {
   "cell_type": "markdown",
   "metadata": {},
   "source": [
    "# Sort an array of 0s, 1s and 2s"
   ]
  },
  {
   "cell_type": "code",
   "execution_count": null,
   "metadata": {},
   "outputs": [],
   "source": [
    "n = int(input())\n",
    "\n",
    "while n > 0:\n",
    "    \n",
    "    n1 = int(input())\n",
    "    x = []\n",
    "    for i in range(n1):\n",
    "        x.append(int(input()))\n",
    "    \n",
    "    \n",
    "    x0 = []\n",
    "    x1 = []\n",
    "    x2 = []\n",
    "    \n",
    "    for i in range(len(x1)):\n",
    "          print(x[i])\n",
    "    \n",
    "    n -=1\n",
    "    "
   ]
  },
  {
   "cell_type": "code",
   "execution_count": null,
   "metadata": {},
   "outputs": [],
   "source": []
  }
 ],
 "metadata": {
  "kernelspec": {
   "display_name": "Python 3",
   "language": "python",
   "name": "python3"
  },
  "language_info": {
   "codemirror_mode": {
    "name": "ipython",
    "version": 3
   },
   "file_extension": ".py",
   "mimetype": "text/x-python",
   "name": "python",
   "nbconvert_exporter": "python",
   "pygments_lexer": "ipython3",
   "version": "3.6.5"
  }
 },
 "nbformat": 4,
 "nbformat_minor": 2
}
