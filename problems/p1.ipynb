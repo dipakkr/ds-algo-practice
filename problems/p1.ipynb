{
 "cells": [
  {
   "cell_type": "code",
   "execution_count": 115,
   "metadata": {},
   "outputs": [],
   "source": [
    "x = \"11110111\"\n",
    "\n",
    "x_len = len(x)\n",
    "\n",
    "ct = 0"
   ]
  },
  {
   "cell_type": "code",
   "execution_count": 108,
   "metadata": {},
   "outputs": [
    {
     "name": "stdout",
     "output_type": "stream",
     "text": [
      "6\n"
     ]
    }
   ],
   "source": [
    "for i in range(x_len):\n",
    "    \n",
    "    count = 1\n",
    "    if x[i] == '1':\n",
    "        for j in range(i+1, x_len):    \n",
    "            if x[i] != x[j]:\n",
    "                break\n",
    "            else:\n",
    "                count += 1\n",
    "    \n",
    "    if count > ct:\n",
    "        ct = count\n",
    "\n",
    "        print(ct)"
   ]
  },
  {
   "cell_type": "code",
   "execution_count": 140,
   "metadata": {},
   "outputs": [
    {
     "name": "stdout",
     "output_type": "stream",
     "text": [
      "1\n",
      "1\n",
      "1\n",
      "1\n",
      "6\n"
     ]
    }
   ],
   "source": [
    "x = \"11111\"\n",
    "\n",
    "x_len = len(x)\n",
    "\n",
    "ct = 0\n",
    "\n",
    "for i in range(x_len-1):    \n",
    "    \n",
    "    if x[i] == '1':\n",
    "        if x[i] == x[i+1]:\n",
    "            count += 1\n",
    "            print(x[i])\n",
    "    \n",
    "    if count > ct:\n",
    "        ct = count\n",
    "        \n",
    "print(ct)"
   ]
  },
  {
   "cell_type": "code",
   "execution_count": 169,
   "metadata": {},
   "outputs": [
    {
     "data": {
      "text/plain": [
       "4"
      ]
     },
     "execution_count": 169,
     "metadata": {},
     "output_type": "execute_result"
    }
   ],
   "source": [
    "def cons(n):\n",
    "    x = str(n).split('0')\n",
    "    x = max(map(len, x))\n",
    "    return x\n",
    "\n",
    "cons(110001111)"
   ]
  },
  {
   "cell_type": "markdown",
   "metadata": {},
   "source": [
    "# Count occurence of a character "
   ]
  },
  {
   "cell_type": "markdown",
   "metadata": {},
   "source": [
    "6) How to count occurrence of a given character in a String? (solution)"
   ]
  },
  {
   "cell_type": "code",
   "execution_count": 3,
   "metadata": {},
   "outputs": [
    {
     "name": "stdout",
     "output_type": "stream",
     "text": [
      "1\n"
     ]
    }
   ],
   "source": [
    "query = \"f\"\n",
    "\n",
    "s = \"abbabaaaadef\"\n",
    "\n",
    "count = 0\n",
    "\n",
    "for i in range(len(s)):\n",
    "    if s[i] == query:\n",
    "        count += 1\n",
    "print(count)"
   ]
  },
  {
   "cell_type": "code",
   "execution_count": 20,
   "metadata": {},
   "outputs": [
    {
     "name": "stdout",
     "output_type": "stream",
     "text": [
      "3\n"
     ]
    }
   ],
   "source": [
    "query = \"ab\"\n",
    "\n",
    "s = \"abvabdab\"\n",
    "\n",
    "count = 0\n",
    "\n",
    "for i in range(len(s) - 1):\n",
    "    temp = s[i] + s[i+1]\n",
    "    if temp == 'ab':\n",
    "        count += 1\n",
    "print(count)"
   ]
  },
  {
   "cell_type": "markdown",
   "metadata": {},
   "source": [
    "## How do you find second highest number in an integer array?"
   ]
  },
  {
   "cell_type": "code",
   "execution_count": null,
   "metadata": {},
   "outputs": [],
   "source": [
    "a = [10, 550, 449, 1, 0, 337, 234]\n",
    "\n",
    "for i in range()"
   ]
  }
 ],
 "metadata": {
  "kernelspec": {
   "display_name": "Python 3",
   "language": "python",
   "name": "python3"
  },
  "language_info": {
   "codemirror_mode": {
    "name": "ipython",
    "version": 3
   },
   "file_extension": ".py",
   "mimetype": "text/x-python",
   "name": "python",
   "nbconvert_exporter": "python",
   "pygments_lexer": "ipython3",
   "version": "3.6.5"
  }
 },
 "nbformat": 4,
 "nbformat_minor": 2
}
